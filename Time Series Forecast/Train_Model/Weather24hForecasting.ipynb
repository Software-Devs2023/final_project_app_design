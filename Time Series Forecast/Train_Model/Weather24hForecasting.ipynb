{
 "cells": [
  {
   "cell_type": "code",
   "execution_count": 1,
   "metadata": {},
   "outputs": [],
   "source": [
    "import tensorflow as tf\n",
    "from tensorflow import keras\n",
    "import pandas as pd\n",
    "import numpy as np\n",
    "import os\n",
    "from zipfile import ZipFile"
   ]
  },
  {
   "cell_type": "code",
   "execution_count": 2,
   "metadata": {},
   "outputs": [],
   "source": [
    "uri = \"https://storage.googleapis.com/tensorflow/tf-keras-datasets/jena_climate_2009_2016.csv.zi\"\n",
    "zip_path = keras.utils.get_file(origin=uri, fname=\"jena_climate_2009_2016.csv.zip\",extract=True)\n",
    "zip_file = ZipFile(zip_path)\n",
    "zip_file.extractall()\n",
    "csv_path = \"jena_climate_2009_2016.csv\""
   ]
  },
  {
   "cell_type": "code",
   "execution_count": 3,
   "metadata": {},
   "outputs": [],
   "source": [
    "df=pd.read_csv(csv_path)\n",
    "df=df[5::6]\n",
    "df=df['T (degC)']"
   ]
  },
  {
   "cell_type": "code",
   "execution_count": 4,
   "metadata": {},
   "outputs": [],
   "source": [
    "window_size=24\n",
    "\n",
    "def Generate_X_Y(df,window_size):\n",
    "    df_as_numpy=df.to_numpy()\n",
    "    X=[]\n",
    "    Y=[]\n",
    "    for i in range(len(df_as_numpy)-window_size):\n",
    "        X.append(df_as_numpy[i:i+window_size])\n",
    "        Y.append(df_as_numpy[i+window_size])\n",
    "    return np.array(X),np.array(Y)\n",
    "\n",
    "features,labels=Generate_X_Y(df,window_size)\n",
    "length=features.shape[0]"
   ]
  },
  {
   "cell_type": "code",
   "execution_count": 5,
   "metadata": {},
   "outputs": [],
   "source": [
    "\n",
    "X_train,Y_train=features[:int(length*0.85)],labels[:int(length*0.85)]\n",
    "X_val,Y_val=features[int(length*0.85):],labels[int(length*0.85):]\n"
   ]
  },
  {
   "cell_type": "code",
   "execution_count": 6,
   "metadata": {},
   "outputs": [
    {
     "name": "stdout",
     "output_type": "stream",
     "text": [
      "Model: \"sequential\"\n",
      "_________________________________________________________________\n",
      " Layer (type)                Output Shape              Param #   \n",
      "=================================================================\n",
      " lstm (LSTM)                 (None, 128)               66560     \n",
      "                                                                 \n",
      " dense (Dense)               (None, 8)                 1032      \n",
      "                                                                 \n",
      " dense_1 (Dense)             (None, 1)                 9         \n",
      "                                                                 \n",
      "=================================================================\n",
      "Total params: 67601 (264.07 KB)\n",
      "Trainable params: 67601 (264.07 KB)\n",
      "Non-trainable params: 0 (0.00 Byte)\n",
      "_________________________________________________________________\n"
     ]
    }
   ],
   "source": [
    "from keras.models import Sequential\n",
    "from keras.layers import *\n",
    "from keras.losses import MeanSquaredError\n",
    "from keras.metrics import RootMeanSquaredError\n",
    "from keras.optimizers import Adam\n",
    "\n",
    "model=Sequential()\n",
    "model.add(InputLayer((window_size,1)))\n",
    "model.add(LSTM(128))\n",
    "model.add(Dense(8,activation='relu'))\n",
    "model.add(Dense(1,activation='linear'))\n",
    "model.summary()"
   ]
  },
  {
   "cell_type": "code",
   "execution_count": 7,
   "metadata": {},
   "outputs": [],
   "source": [
    "cp=keras.callbacks.ModelCheckpoint('Model/',save_best_only=True)\n",
    "model.compile(loss=MeanSquaredError(),optimizer=Adam(learning_rate=0.0001),metrics=[RootMeanSquaredError()])"
   ]
  },
  {
   "cell_type": "code",
   "execution_count": 8,
   "metadata": {},
   "outputs": [
    {
     "name": "stdout",
     "output_type": "stream",
     "text": [
      "Epoch 1/10\n",
      "1858/1862 [============================>.] - ETA: 0s - loss: 19.7955 - root_mean_squared_error: 4.4492INFO:tensorflow:Assets written to: Model\\assets\n"
     ]
    },
    {
     "name": "stderr",
     "output_type": "stream",
     "text": [
      "INFO:tensorflow:Assets written to: Model\\assets\n"
     ]
    },
    {
     "name": "stdout",
     "output_type": "stream",
     "text": [
      "1862/1862 [==============================] - 35s 17ms/step - loss: 19.7646 - root_mean_squared_error: 4.4457 - val_loss: 1.2917 - val_root_mean_squared_error: 1.1365\n",
      "Epoch 2/10\n",
      "1861/1862 [============================>.] - ETA: 0s - loss: 0.9504 - root_mean_squared_error: 0.9749INFO:tensorflow:Assets written to: Model\\assets\n"
     ]
    },
    {
     "name": "stderr",
     "output_type": "stream",
     "text": [
      "INFO:tensorflow:Assets written to: Model\\assets\n"
     ]
    },
    {
     "name": "stdout",
     "output_type": "stream",
     "text": [
      "1862/1862 [==============================] - 40s 22ms/step - loss: 0.9504 - root_mean_squared_error: 0.9749 - val_loss: 0.5702 - val_root_mean_squared_error: 0.7551\n",
      "Epoch 3/10\n",
      "1861/1862 [============================>.] - ETA: 0s - loss: 0.6243 - root_mean_squared_error: 0.7901INFO:tensorflow:Assets written to: Model\\assets\n"
     ]
    },
    {
     "name": "stderr",
     "output_type": "stream",
     "text": [
      "INFO:tensorflow:Assets written to: Model\\assets\n"
     ]
    },
    {
     "name": "stdout",
     "output_type": "stream",
     "text": [
      "1862/1862 [==============================] - 32s 17ms/step - loss: 0.6243 - root_mean_squared_error: 0.7901 - val_loss: 0.4973 - val_root_mean_squared_error: 0.7052\n",
      "Epoch 4/10\n",
      "1860/1862 [============================>.] - ETA: 0s - loss: 0.5743 - root_mean_squared_error: 0.7578INFO:tensorflow:Assets written to: Model\\assets\n"
     ]
    },
    {
     "name": "stderr",
     "output_type": "stream",
     "text": [
      "INFO:tensorflow:Assets written to: Model\\assets\n"
     ]
    },
    {
     "name": "stdout",
     "output_type": "stream",
     "text": [
      "1862/1862 [==============================] - 30s 16ms/step - loss: 0.5743 - root_mean_squared_error: 0.7578 - val_loss: 0.4789 - val_root_mean_squared_error: 0.6921\n",
      "Epoch 5/10\n",
      "1862/1862 [==============================] - 26s 14ms/step - loss: 0.5601 - root_mean_squared_error: 0.7484 - val_loss: 0.5170 - val_root_mean_squared_error: 0.7191\n",
      "Epoch 6/10\n",
      "1862/1862 [==============================] - 29s 16ms/step - loss: 0.5530 - root_mean_squared_error: 0.7437 - val_loss: 0.4920 - val_root_mean_squared_error: 0.7014\n",
      "Epoch 7/10\n",
      "1860/1862 [============================>.] - ETA: 0s - loss: 0.5500 - root_mean_squared_error: 0.7416INFO:tensorflow:Assets written to: Model\\assets\n"
     ]
    },
    {
     "name": "stderr",
     "output_type": "stream",
     "text": [
      "INFO:tensorflow:Assets written to: Model\\assets\n"
     ]
    },
    {
     "name": "stdout",
     "output_type": "stream",
     "text": [
      "1862/1862 [==============================] - 32s 17ms/step - loss: 0.5500 - root_mean_squared_error: 0.7416 - val_loss: 0.4762 - val_root_mean_squared_error: 0.6901\n",
      "Epoch 8/10\n",
      "1861/1862 [============================>.] - ETA: 0s - loss: 0.5421 - root_mean_squared_error: 0.7363INFO:tensorflow:Assets written to: Model\\assets\n"
     ]
    },
    {
     "name": "stderr",
     "output_type": "stream",
     "text": [
      "INFO:tensorflow:Assets written to: Model\\assets\n"
     ]
    },
    {
     "name": "stdout",
     "output_type": "stream",
     "text": [
      "1862/1862 [==============================] - 32s 17ms/step - loss: 0.5421 - root_mean_squared_error: 0.7363 - val_loss: 0.4719 - val_root_mean_squared_error: 0.6870\n",
      "Epoch 9/10\n",
      "1862/1862 [==============================] - 29s 16ms/step - loss: 0.5388 - root_mean_squared_error: 0.7340 - val_loss: 0.4721 - val_root_mean_squared_error: 0.6871\n",
      "Epoch 10/10\n",
      "1861/1862 [============================>.] - ETA: 0s - loss: 0.5368 - root_mean_squared_error: 0.7326INFO:tensorflow:Assets written to: Model\\assets\n"
     ]
    },
    {
     "name": "stderr",
     "output_type": "stream",
     "text": [
      "INFO:tensorflow:Assets written to: Model\\assets\n"
     ]
    },
    {
     "name": "stdout",
     "output_type": "stream",
     "text": [
      "1862/1862 [==============================] - 29s 16ms/step - loss: 0.5368 - root_mean_squared_error: 0.7327 - val_loss: 0.4705 - val_root_mean_squared_error: 0.6860\n"
     ]
    },
    {
     "data": {
      "text/plain": [
       "<keras.src.callbacks.History at 0x142de062d60>"
      ]
     },
     "execution_count": 8,
     "metadata": {},
     "output_type": "execute_result"
    }
   ],
   "source": [
    "model.fit(X_train,Y_train,validation_data=(X_val,Y_val),epochs=10,callbacks=[cp])\n"
   ]
  },
  {
   "cell_type": "code",
   "execution_count": 11,
   "metadata": {},
   "outputs": [
    {
     "name": "stdout",
     "output_type": "stream",
     "text": [
      "1862/1862 [==============================] - 14s 8ms/step - loss: 0.5284 - root_mean_squared_error: 0.7269\n"
     ]
    },
    {
     "data": {
      "text/plain": [
       "[0.528396487236023, 0.7269088625907898]"
      ]
     },
     "execution_count": 11,
     "metadata": {},
     "output_type": "execute_result"
    }
   ],
   "source": []
  }
 ],
 "metadata": {
  "kernelspec": {
   "display_name": "Python 3",
   "language": "python",
   "name": "python3"
  },
  "language_info": {
   "codemirror_mode": {
    "name": "ipython",
    "version": 3
   },
   "file_extension": ".py",
   "mimetype": "text/x-python",
   "name": "python",
   "nbconvert_exporter": "python",
   "pygments_lexer": "ipython3",
   "version": "3.9.0"
  }
 },
 "nbformat": 4,
 "nbformat_minor": 2
}
