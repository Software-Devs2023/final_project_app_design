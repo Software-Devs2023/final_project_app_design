{
 "cells": [
  {
   "cell_type": "code",
   "execution_count": 7,
   "metadata": {},
   "outputs": [],
   "source": [
    "import numpy as np\n",
    "import pandas as pd\n",
    "import pickle"
   ]
  },
  {
   "cell_type": "code",
   "execution_count": 8,
   "metadata": {},
   "outputs": [],
   "source": [
    "csv_path = \"jena_climate_2009_2016.csv\"\n",
    "df=pd.read_csv(csv_path)\n",
    "df=df[5::6]\n",
    "df=df['T (degC)']"
   ]
  },
  {
   "cell_type": "code",
   "execution_count": 9,
   "metadata": {},
   "outputs": [],
   "source": [
    "window_size=24\n",
    "\n",
    "def Generate_X_Y(df,window_size):\n",
    "    df_as_numpy=df.to_numpy()\n",
    "    X=[]\n",
    "    Y=[]\n",
    "    for i in range(len(df_as_numpy)-window_size):\n",
    "        X.append(df_as_numpy[i:i+window_size])\n",
    "        Y.append(df_as_numpy[i+window_size])\n",
    "    return np.array(X),np.array(Y)\n",
    "\n",
    "X,Y=Generate_X_Y(df,window_size)\n",
    "X=np.append(np.ones(X.shape[0]).reshape(-1,1),X,axis=1)"
   ]
  },
  {
   "cell_type": "code",
   "execution_count": 10,
   "metadata": {},
   "outputs": [],
   "source": [
    "class LinearRegression:\n",
    "    def fit(self,X,Y):\n",
    "        self.theta=np.linalg.inv(X.T@X)@X.T@Y\n",
    "        print(self.theta)\n",
    "    def predict(self,X):\n",
    "        return self.theta@X.T"
   ]
  },
  {
   "cell_type": "code",
   "execution_count": 11,
   "metadata": {},
   "outputs": [
    {
     "name": "stdout",
     "output_type": "stream",
     "text": [
      "[ 3.19591322e-02 -1.29528144e-01  6.97352259e-02  5.32752596e-02\n",
      "  4.25667209e-02  6.80330808e-03  1.14867784e-02 -1.59778861e-02\n",
      "  5.66577702e-03 -7.13787936e-03  1.49661484e-02  4.42638946e-03\n",
      "  1.18707997e-02  3.55504857e-04 -5.08744301e-03 -1.80273551e-02\n",
      " -3.20896237e-03  1.48939387e-02 -8.93449519e-04 -5.80265168e-04\n",
      " -4.68159948e-03 -4.92844692e-02 -8.86372089e-02 -2.16257841e-01\n",
      "  1.29988219e+00]\n"
     ]
    }
   ],
   "source": [
    "LR=LinearRegression()\n",
    "LR.fit(X,Y)"
   ]
  },
  {
   "cell_type": "code",
   "execution_count": 12,
   "metadata": {},
   "outputs": [],
   "source": [
    "with open('linear_regression_model.pkl', 'wb') as file:\n",
    "    pickle.dump(LR.theta, file)"
   ]
  }
 ],
 "metadata": {
  "kernelspec": {
   "display_name": "Python 3",
   "language": "python",
   "name": "python3"
  },
  "language_info": {
   "codemirror_mode": {
    "name": "ipython",
    "version": 3
   },
   "file_extension": ".py",
   "mimetype": "text/x-python",
   "name": "python",
   "nbconvert_exporter": "python",
   "pygments_lexer": "ipython3",
   "version": "3.9.0"
  }
 },
 "nbformat": 4,
 "nbformat_minor": 2
}
